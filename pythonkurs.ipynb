{
 "cells": [
  {
   "cell_type": "markdown",
   "metadata": {},
   "source": [
    "## Python-kurs 1\n",
    "Velkommen til et interaktivt Python-kurs! Python er et relativt minimalistisk programmeringsspråk med enkel syntaks. \n",
    "\n",
    "I første omgang kan du tenke at programmene dine kjører fra øverst til nederst; linje for linje. "
   ]
  },
  {
   "cell_type": "markdown",
   "metadata": {},
   "source": [
    "## Del 1: Printing, variabler og datatyper"
   ]
  },
  {
   "cell_type": "markdown",
   "metadata": {},
   "source": [
    "### Print-funksjonen\n",
    "Veldig ofte når vi programmerer, har vi et behov for å se hva resultatet av koden vår ble. En rask måte å gjøre det på, er å bruke `print`-funksjonen i Python. Den \"printer\" rett og slett det vi skriver. \n",
    "\n",
    "Prøv med koden under! Du kjører koden ved å trykke på den lille play-knappen til venstre for kodefeltet. "
   ]
  },
  {
   "cell_type": "code",
   "execution_count": 2,
   "metadata": {},
   "outputs": [
    {
     "name": "stdout",
     "output_type": "stream",
     "text": [
      "Regnestykket 3+5 er lik\n",
      "8\n"
     ]
    }
   ],
   "source": [
    "print(\"Regnestykket 3+5 er lik\")\n",
    "print(3+5)"
   ]
  },
  {
   "cell_type": "markdown",
   "metadata": {},
   "source": [
    "Alt som står mellom anførselstegn i parentesen, blir gjengitt akkurat slik det står. Det som står uten anførselstegn, blir erstattet med verdien til uttrykket. Print ut resultatet av $3\\cdot3$ i kodeblokken under:"
   ]
  },
  {
   "cell_type": "code",
   "execution_count": 2,
   "metadata": {},
   "outputs": [
    {
     "name": "stdout",
     "output_type": "stream",
     "text": [
      " \n"
     ]
    }
   ],
   "source": [
    "#print ut 3*3 \n",
    "print(\" \")"
   ]
  },
  {
   "cell_type": "markdown",
   "metadata": {},
   "source": [
    "### Variabler\n",
    "Variabler er et utrolig kraftig og nyttig prinsipp innen måte matematikk og programmering. Det gjør at vi kan lagre verdier med et navn, slik at vi kan kalle på de senere, manipulere de og mye mye mer. \n",
    "\n",
    "I Python er syntaksen for å lage en variabel ganske enkel. Først skriver man hva man ønsker å kalle variabelen, deretter gir man den en verdi; slik som dette:\n",
    "\n",
    "```navn = \"Ola\" ```\n"
   ]
  },
  {
   "cell_type": "markdown",
   "metadata": {},
   "source": [
    "Nå vil programmet husket at jeg har lagret \"Ola\" til variabelen ```navn```, som vil si at neste gang jeg skriver ```navn```, så skjønner programmet at jeg mener \"Ola\". "
   ]
  },
  {
   "cell_type": "markdown",
   "metadata": {},
   "source": [
    "I koden nedenfor skriver vi både tekst og variabler til skjermen. Prøv å kjør programmet under: "
   ]
  },
  {
   "cell_type": "code",
   "execution_count": 5,
   "metadata": {},
   "outputs": [
    {
     "name": "stdout",
     "output_type": "stream",
     "text": [
      "Hei, jeg heter Sondre\n"
     ]
    }
   ],
   "source": [
    "navn = \"Jens\"\n",
    "print(\"Hei, jeg heter\", navn)"
   ]
  },
  {
   "cell_type": "markdown",
   "metadata": {},
   "source": [
    "<b>Oppgave: </b> Skriv et program der du oppretter en variabel `tall` med verdien `56`, og som skriver ut verdien av variabelen med en svarsetning. Resultatet skal bli: <b>Verdien av variabelen tall er 56</b>"
   ]
  },
  {
   "cell_type": "code",
   "execution_count": 4,
   "metadata": {},
   "outputs": [],
   "source": [
    "#Skriv koden her"
   ]
  },
  {
   "cell_type": "markdown",
   "metadata": {},
   "source": [
    "Det er mulig å gi en ny variabel verdien til en annen variabel, men merk at dersom du senere skulle endre på den første variabelen blir ikke den andre endret på:"
   ]
  },
  {
   "cell_type": "code",
   "execution_count": 8,
   "metadata": {},
   "outputs": [
    {
     "name": "stdout",
     "output_type": "stream",
     "text": [
      "1\n"
     ]
    }
   ],
   "source": [
    "a = 1\n",
    "b = a\n",
    "a = 2\n",
    "print(b)"
   ]
  },
  {
   "cell_type": "markdown",
   "metadata": {},
   "source": [
    "I eksempelet over ser vi at ```b``` beholder verdien ```a``` hadde da vi først lagde den. "
   ]
  },
  {
   "cell_type": "markdown",
   "metadata": {},
   "source": [
    "Vi kan oppdatere en variabel senere, og til og med bruke dets tidligere verdi i oppdateringen:"
   ]
  },
  {
   "cell_type": "code",
   "execution_count": 5,
   "metadata": {},
   "outputs": [
    {
     "name": "stdout",
     "output_type": "stream",
     "text": [
      "55\n"
     ]
    }
   ],
   "source": [
    "tall = 52\n",
    "tall = tall + 3\n",
    "print(tall)"
   ]
  },
  {
   "cell_type": "markdown",
   "metadata": {},
   "source": [
    "### Datatyper\n",
    "Det fins ulike datatyper i Python. Hittil har vi brukt `string` (tekst) og `int` (heltall).\n",
    "\n",
    "#### String\n",
    "En av de vanligste er string, som er helt vanlig tekst. Når teksten vi gir variabelen skal være av typen `string`, er det viktig å bruke anførselstegn rundt teksten.\n",
    "\n",
    "```variabel = \"en tekst\"```\n",
    "\n",
    "### Integers\n",
    "Rett og slett klassiske heltall, $1,2,3,4\\dots$ osv. \n",
    "\n",
    "### Float\n",
    "Datatypen `float` betyr desimaltall. F.eks. 3.14. Obs: I Python må vi bruke punktum istedenfor komma når vi lager desimaltall.  "
   ]
  },
  {
   "cell_type": "markdown",
   "metadata": {},
   "source": [
    "### Boolean\n",
    "En boolean er en litt annerledes datatype, og kan kun ha to mulige verdier: ```True``` eller ```False```. Disse blir veldig nyttige senere når vi skal lære om betingelser. "
   ]
  },
  {
   "cell_type": "code",
   "execution_count": 3,
   "metadata": {},
   "outputs": [
    {
     "name": "stdout",
     "output_type": "stream",
     "text": [
      "<class 'str'>\n",
      "<class 'int'>\n",
      "<class 'float'>\n",
      "<class 'bool'>\n"
     ]
    }
   ],
   "source": [
    "navn = \"Jens\" #variabel av type streng\n",
    "tall = 10 #variabel av type integer\n",
    "nummer = 3.14156 #variabel av type float\n",
    "det_regner = False #variabel av type boolean"
   ]
  },
  {
   "cell_type": "markdown",
   "metadata": {},
   "source": [
    "### Matte i Python"
   ]
  },
  {
   "cell_type": "markdown",
   "metadata": {},
   "source": [
    "Vi lærer Python i matte, fordi matte fungerer godt i Python. For eksempel som en kalkulator."
   ]
  },
  {
   "cell_type": "code",
   "execution_count": 1,
   "metadata": {},
   "outputs": [
    {
     "name": "stdout",
     "output_type": "stream",
     "text": [
      "6\n",
      "8\n",
      "12.5\n",
      "5.0\n",
      "97.65625\n"
     ]
    }
   ],
   "source": [
    "print(1 + 5) #pluss \n",
    "print(10 - 2) #minus\n",
    "print(2.5 * 5) #gange\n",
    "print(10 / 2) #dele\n",
    "print(2.5 ** 5) #potens"
   ]
  },
  {
   "cell_type": "markdown",
   "metadata": {},
   "source": [
    "### Oppgaver variabel/matte"
   ]
  },
  {
   "cell_type": "markdown",
   "metadata": {},
   "source": [
    "<b>Oppgave 1</b>: Opprett en variabel `a` med verdien `5`. Legg til verdien `5` tre ganger. Kontroller at variabelen nå har verdi `20`.\n"
   ]
  },
  {
   "cell_type": "code",
   "execution_count": null,
   "metadata": {},
   "outputs": [],
   "source": [
    "#Oppgave1"
   ]
  },
  {
   "cell_type": "markdown",
   "metadata": {},
   "source": [
    "<b>Oppgave 2: </b>Opprett to variabler `a` og `b`, med verdiene `2` og `3`. Bytt verdi på `a` og `b` slik at `a` har verdien til `b` og `b` har verdien til `a`, uten å skrive inn noe tall på nytt"
   ]
  },
  {
   "cell_type": "code",
   "execution_count": null,
   "metadata": {},
   "outputs": [],
   "source": [
    "#Oppgave 2"
   ]
  },
  {
   "cell_type": "markdown",
   "metadata": {},
   "source": [
    "<b>Oppgave 3: </b> Regn ut verdien av uttrykket $v_0t+\\frac{1}{2}at^2$ med $v_0=5$, $a=9,81$, $t=4$. "
   ]
  },
  {
   "cell_type": "code",
   "execution_count": null,
   "metadata": {},
   "outputs": [],
   "source": [
    "#Oppgave 3"
   ]
  },
  {
   "cell_type": "markdown",
   "metadata": {},
   "source": [
    "### Hente opplysninger fra brukeren med `input`"
   ]
  },
  {
   "cell_type": "markdown",
   "metadata": {},
   "source": [
    "Med `input` kan vi hente informasjon ut fra det den personen som kjører programmet skriver inn i konsollen. "
   ]
  },
  {
   "cell_type": "markdown",
   "metadata": {},
   "source": [
    "<b>Eksempel: </b>Skriv et program som ber brukeren om et navn, og som deretter skriver navnet til skjermen:"
   ]
  },
  {
   "cell_type": "code",
   "execution_count": null,
   "metadata": {},
   "outputs": [],
   "source": [
    "navn = input(\"Skriv inn et navn her: \")\n",
    "print(f\"Du skrev inn: {navn}\")"
   ]
  },
  {
   "cell_type": "markdown",
   "metadata": {},
   "source": [
    "I koden ovenfor har vi brukt `f-string` som er en annen måte å printe ut tekst og variabel på en gang."
   ]
  },
  {
   "cell_type": "markdown",
   "metadata": {},
   "source": [
    "Når du bruker `input` og brukeren skriver inn opplysninger i konsollen, lagres de som en tekst. Man kan ikke gjøre matte på tekster, de må være av typen `int` eller `float`. "
   ]
  },
  {
   "cell_type": "markdown",
   "metadata": {},
   "source": [
    "<b>Eksempel: </b> Skriv et program som ber brukeren om et heltall og printer det dobbelte av tallet:"
   ]
  },
  {
   "cell_type": "code",
   "execution_count": null,
   "metadata": {},
   "outputs": [],
   "source": [
    "tall = int(input(\"Skriv inn et heltall: \")) #int gjør teksten fra brukeren om til et tall\n",
    "dobbelt = 2*tall\n",
    "print(f\"Det dobbelte av {tall} er {dobbelt}\")"
   ]
  },
  {
   "cell_type": "markdown",
   "metadata": {},
   "source": [
    "Dersom du bruker `float` kan vi bruke desimaltall i stedet for heltall! `float()` gjør det mellom parentesen om til et desimaltall.\n",
    "\n",
    "```python\n",
    "tall = float(input(\"Skriv inn et tall: \")) "
   ]
  },
  {
   "cell_type": "markdown",
   "metadata": {},
   "source": [
    "### Oppgaver input"
   ]
  },
  {
   "cell_type": "markdown",
   "metadata": {},
   "source": [
    "<b>Oppgave 1: </b> Be bruker om fornavn og etternavn. Skriv ut hilsen som inneholder fullt navn: "
   ]
  },
  {
   "cell_type": "code",
   "execution_count": null,
   "metadata": {},
   "outputs": [],
   "source": [
    "#Oppgave 1"
   ]
  },
  {
   "cell_type": "markdown",
   "metadata": {},
   "source": [
    "<b>Oppgave 2: </b> Be om et tall fra brukeren og regn ut halvparten av tallet. \n",
    "Hint: Du må gjøre om det brukeren skriver datatypen `int` eller `float`"
   ]
  },
  {
   "cell_type": "code",
   "execution_count": null,
   "metadata": {},
   "outputs": [],
   "source": [
    "#Oppgave 1"
   ]
  },
  {
   "cell_type": "markdown",
   "metadata": {},
   "source": [
    "## Betingelser: "
   ]
  },
  {
   "cell_type": "markdown",
   "metadata": {},
   "source": [
    "I programmering er <i>betingelser</i> beslutningstakere i koden din. Med betingelser kan programmet ditt ta ulike valg og utgjøre ulike handlinger basert på valget. "
   ]
  },
  {
   "cell_type": "markdown",
   "metadata": {},
   "source": [
    "Tenk på betingelser som `\"hvis-da\"` logikk. \"`Hvis` noe er sant, gjør dette; `ellers` gjør dette\". "
   ]
  },
  {
   "cell_type": "code",
   "execution_count": null,
   "metadata": {},
   "outputs": [
    {
     "name": "stdout",
     "output_type": "stream",
     "text": [
      "Du kan ikke stemme\n"
     ]
    }
   ],
   "source": [
    "alder = 16 \n",
    "if alder < 18:\n",
    "    print(\"Du kan ikke stemme\")\n",
    "else:\n",
    "    print(\"Du kan stemme\")"
   ]
  },
  {
   "cell_type": "markdown",
   "metadata": {},
   "source": [
    "Vi kan sjekke om noe stemmer i Python. Dersom en test stemmer gir det `True`. Ellers gir det `False`."
   ]
  },
  {
   "cell_type": "code",
   "execution_count": 29,
   "metadata": {},
   "outputs": [
    {
     "name": "stdout",
     "output_type": "stream",
     "text": [
      "False\n",
      "True\n",
      "True\n",
      "True\n",
      "False\n",
      "False\n"
     ]
    }
   ],
   "source": [
    "a = 5\n",
    "b = 10\n",
    "\n",
    "print(a == b)  \n",
    "print(a != b)  \n",
    "print(a < b)  \n",
    "print(a <= b)  \n",
    "print(a > b)   \n",
    "print(a >= b) "
   ]
  },
  {
   "cell_type": "markdown",
   "metadata": {},
   "source": [
    "### `if...else`-setning:"
   ]
  },
  {
   "cell_type": "markdown",
   "metadata": {},
   "source": [
    "Prøv å forklar/forstå sammen med de du sitter med hva følgende kode gjør. Jeg vil hjelpe dere med å forklare, så bare rekk opp hånden."
   ]
  },
  {
   "cell_type": "markdown",
   "metadata": {},
   "source": [
    "<b>EKSEMPEL:</b> "
   ]
  },
  {
   "cell_type": "code",
   "execution_count": 22,
   "metadata": {},
   "outputs": [
    {
     "name": "stdout",
     "output_type": "stream",
     "text": [
      "Du kan stemme!\n",
      "Denne koden kjører alltid\n"
     ]
    }
   ],
   "source": [
    "alder = 27\n",
    "if alder >= 18:\n",
    "    print(\"Du kan stemme!\")\n",
    "else:\n",
    "    print(\"Du kan ikke stemme ennå.\")\n",
    "    \n",
    "print(\"Denne koden kjører alltid\")"
   ]
  },
  {
   "cell_type": "markdown",
   "metadata": {},
   "source": [
    "I eksemplet ovenfor er `alder` større enn 18, og koden inni `if`-blokken blir kjørt. Koden i `else`-blokken blir hoppet over. \n",
    "\n",
    "Prøv å endre på koden slik at koden i `else`-blokken blir utført."
   ]
  },
  {
   "cell_type": "markdown",
   "metadata": {},
   "source": [
    "### `if...elif...else`-setning:"
   ]
  },
  {
   "cell_type": "markdown",
   "metadata": {},
   "source": [
    "Noen ganger må vi teste mer enn et utsagn. For eksempel i koden nedenfor: "
   ]
  },
  {
   "cell_type": "code",
   "execution_count": null,
   "metadata": {},
   "outputs": [],
   "source": [
    "karakterscore = 75\n",
    "if karakterscore >= 90:\n",
    "    print(\"A\")\n",
    "elif karakterscore >= 80:\n",
    "    print(\"B\")\n",
    "elif karakterscore >= 70:\n",
    "    print(\"C\")\n",
    "else:\n",
    "    print(\"F\")\n",
    "    \n",
    "print(\"Programmet er ferdig\")"
   ]
  },
  {
   "cell_type": "markdown",
   "metadata": {},
   "source": [
    "Prøv å endre på koden over, slik at den følger det norske karaktersystemet, med karakterene 1, 2, 3, 4, 5 og 6. Bestem selv hvilke prosenter som gir hvilken karakter."
   ]
  },
  {
   "cell_type": "markdown",
   "metadata": {},
   "source": [
    "### Oppgaver"
   ]
  },
  {
   "cell_type": "markdown",
   "metadata": {},
   "source": [
    "<b>Oppgave 1: </b>Ta inn to tall der du sjekker om det andre er større enn det første i en variabel. Skriv ut resultatet av sjekken.\n"
   ]
  },
  {
   "cell_type": "code",
   "execution_count": null,
   "metadata": {},
   "outputs": [],
   "source": [
    "#Oppgave 1\n",
    "num1 = 5\n",
    "num2 = 10\n",
    "\n",
    "#skriv koden din her"
   ]
  },
  {
   "cell_type": "markdown",
   "metadata": {},
   "source": [
    "<b>Oppgave 2:</b> Lag et program som ber brukeren om et tall og deretter skriver en melding om tallet er positivt eller negativt. "
   ]
  },
  {
   "cell_type": "code",
   "execution_count": 34,
   "metadata": {},
   "outputs": [],
   "source": [
    "#Oppgave 2\n",
    "nummer = 10 \n",
    "\n",
    "#skriv koden din her"
   ]
  },
  {
   "cell_type": "markdown",
   "metadata": {},
   "source": [
    "<b>Oppgave 3: </b>Lag et program som regner lønnen til en som jobber hos en bilselger. Bilselgeren tjener 500 kr for hver bil han selger. Dersom han selger over 70 biler får han en bonus på 5000 kr. Ta deretter inn hvor mange biler han har solgt, og kriv til konsoll.\n"
   ]
  },
  {
   "cell_type": "code",
   "execution_count": null,
   "metadata": {},
   "outputs": [],
   "source": [
    "#Oppgave 3\n",
    "#skriv koden din her"
   ]
  },
  {
   "cell_type": "markdown",
   "metadata": {},
   "source": [
    "## Del 3: Løkker"
   ]
  },
  {
   "cell_type": "markdown",
   "metadata": {},
   "source": [
    "### For-løkker\n",
    "For-løkker i Python er en måte å gjenta en kodeblokk flere ganger. De er nyttige når vi skal gjenta samme kode et spesifikt antall ganger. \n",
    "\n",
    "Under er et eksempel der vi printer ut tallene fra $1$ til $5$. Kommandoen `range(1,6)` betyr heltallene fra $1$ til $6$, men ikke inkludert $6$. Variabelen ```tall``` øker med èn for hver runde i løkken:\n"
   ]
  },
  {
   "cell_type": "code",
   "execution_count": 6,
   "metadata": {},
   "outputs": [
    {
     "name": "stdout",
     "output_type": "stream",
     "text": [
      "1\n",
      "2\n",
      "3\n",
      "4\n",
      "5\n"
     ]
    }
   ],
   "source": [
    "for tall in range(1, 6):\n",
    "    print(tall)"
   ]
  },
  {
   "cell_type": "markdown",
   "metadata": {},
   "source": [
    "#### Oppgave 1\n",
    "Skriv en for-løkke som summerer tallene fra 1 til 10 og skriver ut resultatet."
   ]
  },
  {
   "cell_type": "code",
   "execution_count": null,
   "metadata": {},
   "outputs": [],
   "source": [
    "#oppgave"
   ]
  },
  {
   "cell_type": "markdown",
   "metadata": {},
   "source": [
    "#### Oppgave 2\n",
    "Bruk en løkke til å skrive teksten \"Matematikk\" tre ganger:"
   ]
  },
  {
   "cell_type": "code",
   "execution_count": null,
   "metadata": {},
   "outputs": [],
   "source": [
    "#oppgave"
   ]
  },
  {
   "cell_type": "markdown",
   "metadata": {},
   "source": [
    "### While-løkker\n",
    "While-løkker i Python er en annen type løkke som brukes til å gjenta en kodeblokk så lenge en bestemt betingelse er sann. Dette betyr at koden inne i while-løkken vil bli gjentatt så lenge betingelsen er oppfylt. Hvis betingelsen blir usann på et tidspunkt, vil løkken avsluttes, og kontrollen flytter til den neste linjen etter løkken.\n",
    "\n",
    "Det er viktig å sørge for at betingelsen til slutt blir usann, ellers kan du få en uendelig løkke som aldri slutter. For å unngå uendelige løkker, bør du sørge for at betingelsen blir sann for en stund, men til slutt blir usann.\n",
    "\n",
    "Her er et enkelt eksempel som viser hvordan en while-løkke fungerer:"
   ]
  },
  {
   "cell_type": "code",
   "execution_count": null,
   "metadata": {},
   "outputs": [],
   "source": [
    "teller = 1\n",
    "while teller <= 5:\n",
    "    print(\"Dette er iterasjon\", teller)\n",
    "    teller += 1"
   ]
  },
  {
   "cell_type": "markdown",
   "metadata": {},
   "source": [
    "I dette eksempelet starter teller med verdien 1, og mens teller er mindre enn eller lik 5, vil løkken skrive ut en melding og øke teller med 1 i hver iterasjon. Løkken kjører fem ganger, og deretter avsluttes den når betingelsen blir usann."
   ]
  },
  {
   "cell_type": "markdown",
   "metadata": {},
   "source": [
    "#### Oppgave 3\n",
    "Skriv en while-løkke som teller ned fra 10 til 1 og skriver ut hvert tall."
   ]
  },
  {
   "cell_type": "code",
   "execution_count": null,
   "metadata": {},
   "outputs": [],
   "source": []
  },
  {
   "cell_type": "markdown",
   "metadata": {},
   "source": [
    "### Oppgave 4\n",
    "Lag en while-løkke som ber brukeren gjette et hemmelig tall. Gi brukeren maksimalt 3 forsøk. Hvis brukeren gjetter riktig, skriv ut \"Gratulerer, du har gjettet riktig!\", ellers gi tilbakemelding om at de har brukt opp alle forsøkene."
   ]
  },
  {
   "cell_type": "code",
   "execution_count": null,
   "metadata": {},
   "outputs": [],
   "source": []
  },
  {
   "cell_type": "markdown",
   "metadata": {},
   "source": [
    "### Oppgave 5\n",
    "Lag en while-løkke som skriver ut tallene fra 1 til 10, men hopper over tallene 5 og 7. Du kan bruke continue-instruksjonen for å hoppe over bestemte tall."
   ]
  },
  {
   "cell_type": "code",
   "execution_count": null,
   "metadata": {},
   "outputs": [],
   "source": []
  },
  {
   "cell_type": "markdown",
   "metadata": {},
   "source": [
    "## Del 4: Funksjoner"
   ]
  },
  {
   "cell_type": "markdown",
   "metadata": {},
   "source": [
    "En funksjon er en kodeblokk som bare kjører dersom man kaller på den. Når man skriver lengre programmer så kan koden bli mer organisert og lesbar dersom du har brukt funksjoner. Spesielt dersom du har gjentatt kode flere ganger, så kan det være lurt å lage en funksjon. Da slipper du å skrive den samme koden flere ganger, og du kan heller kalle på funksjonen når du trenger den."
   ]
  },
  {
   "cell_type": "markdown",
   "metadata": {},
   "source": [
    "<img src=\"https://webprosjekt1.w3spaces.com/dry.png\" height=250px>"
   ]
  },
  {
   "cell_type": "markdown",
   "metadata": {},
   "source": [
    "Å lage en funksjon i Python er enkelt. Du må bare velge et passende navn på funksjonen og gi funksjonen instrukser på hva som skal skje dersom den kalles på. \n",
    "\n",
    "Vi definerer funksjonen med nøkkelordet `def`, skriver deretter navnet med parentes og avslutter med kolon `:`. Instruksene som skal utføres må være innrykket. \n",
    "\n",
    "```python\n",
    "def funksjonsnavn():\n",
    "    # Instruksene som skal utføres\n",
    "```"
   ]
  },
  {
   "cell_type": "markdown",
   "metadata": {},
   "source": [
    "<b>Eksempel: </b>"
   ]
  },
  {
   "cell_type": "code",
   "execution_count": 12,
   "metadata": {},
   "outputs": [
    {
     "name": "stdout",
     "output_type": "stream",
     "text": [
      "Hei, dette er min første funksjon!\n",
      "Den printer bare ut denne teksten.\n"
     ]
    }
   ],
   "source": [
    "#definerer en funksjon\n",
    "def min_første_funksjon():\n",
    "    print(\"Hei, dette er min første funksjon!\")\n",
    "    print(\"Den printer bare ut denne teksten.\")\n",
    "\n",
    "#kaller på funksjonen\n",
    "min_første_funksjon()"
   ]
  },
  {
   "cell_type": "markdown",
   "metadata": {},
   "source": [
    "Det er også mulighet å gi funksjonen en eller flere `parametere`. Dette er variabler som funksjonen kan bruke, og skrives i parentesen under defineringen. Når man kaller på funksjonen skriver man inn hva verdien til variabelen er. \n",
    "\n",
    "Si at vi skal lage en funksjon som hilser folk velkommen. Det kan gjøres på denne måten. Merk bruk av \"f-streng\" i printingen!"
   ]
  },
  {
   "cell_type": "code",
   "execution_count": 11,
   "metadata": {},
   "outputs": [
    {
     "name": "stdout",
     "output_type": "stream",
     "text": [
      "Velkommen, Jens!\n",
      "Velkommen, Sondre!\n",
      "Velkommen, Erlend!\n",
      "Velkommen, Juan!\n"
     ]
    }
   ],
   "source": [
    "#definerer en funksjon\n",
    "def velkommen(navn):\n",
    "    print(f\"Velkommen, {navn}!\")\n",
    "\n",
    "#kaller på funksjonen\n",
    "velkommen(\"Jens\")\n",
    "velkommen(\"Sondre\")\n",
    "velkommen(\"Erlend\")\n",
    "velkommen(\"Juan\")"
   ]
  },
  {
   "cell_type": "markdown",
   "metadata": {},
   "source": [
    "Du kan legge til så mange parametre du vil, bare separer dem med `komma`. "
   ]
  },
  {
   "cell_type": "code",
   "execution_count": 13,
   "metadata": {},
   "outputs": [
    {
     "name": "stdout",
     "output_type": "stream",
     "text": [
      "Du heter Jens!\n",
      "Du er 27 år gammel!\n"
     ]
    }
   ],
   "source": [
    "def info_push(navn, alder):\n",
    "    print(f\"Du heter {navn} og er {alder} år gammel.\")\n",
    "\n",
    "info_push(\"Jens\", 27)\n"
   ]
  },
  {
   "cell_type": "markdown",
   "metadata": {},
   "source": [
    "<b>Oppgave: </b> Lag en funksjon `kalkulator` som har to tall som parametre. Funksjonen skal summere tallene og printe summen. Kall så på funksjonen."
   ]
  },
  {
   "cell_type": "code",
   "execution_count": null,
   "metadata": {},
   "outputs": [],
   "source": [
    "#Skriv koden her"
   ]
  },
  {
   "cell_type": "markdown",
   "metadata": {},
   "source": [
    "#### `Return` - nøkkelordet"
   ]
  },
  {
   "cell_type": "markdown",
   "metadata": {},
   "source": [
    "<i>What happens in a function, stays in a function.</i> Variabler som lages i en funksjon eksisterer ikke utenfor funksjonen. La oss illustrere konseptet:"
   ]
  },
  {
   "cell_type": "code",
   "execution_count": 15,
   "metadata": {},
   "outputs": [
    {
     "ename": "NameError",
     "evalue": "name 'x' is not defined",
     "output_type": "error",
     "traceback": [
      "\u001b[0;31m---------------------------------------------------------------------------\u001b[0m",
      "\u001b[0;31mNameError\u001b[0m                                 Traceback (most recent call last)",
      "Cell \u001b[0;32mIn[15], line 4\u001b[0m\n\u001b[1;32m      2\u001b[0m     x \u001b[39m=\u001b[39m \u001b[39m5\u001b[39m\n\u001b[1;32m      3\u001b[0m foo()\n\u001b[0;32m----> 4\u001b[0m \u001b[39mprint\u001b[39m(x)\n",
      "\u001b[0;31mNameError\u001b[0m: name 'x' is not defined"
     ]
    }
   ],
   "source": [
    "def foo():\n",
    "    x = 5\n",
    "foo()\n",
    "print(x)"
   ]
  },
  {
   "cell_type": "markdown",
   "metadata": {},
   "source": [
    "Eksemplet ovenfor viser at `x` eksisterer kun i funksjonen `foo` og kan ikke brukes utenfor funksjonen. Når du lager en variabel i en funksjon kalles variabelen en `lokal variabel`. Variabler som lages utenfor funksjoner kalles `globale variabler` og kan brukes overalt."
   ]
  },
  {
   "cell_type": "code",
   "execution_count": 23,
   "metadata": {},
   "outputs": [
    {
     "name": "stdout",
     "output_type": "stream",
     "text": [
      "0\n"
     ]
    }
   ],
   "source": [
    "x=0 #global variabel\n",
    "def foo():\n",
    "    x = 5 #lokal variabel\n",
    "foo() \n",
    "print(x)"
   ]
  },
  {
   "cell_type": "markdown",
   "metadata": {},
   "source": [
    "Variabelen `x` i `foo`-funksjonen er en annen `x` enn på utsiden! "
   ]
  },
  {
   "cell_type": "markdown",
   "metadata": {},
   "source": [
    "For å få tilgang til variabler som er laget i en funksjon, kan vi bruke nøkkelordet `return`. Dette gjør at funksjonen returnerer en verdi som kan brukes utenfor funksjonen."
   ]
  },
  {
   "cell_type": "code",
   "execution_count": 28,
   "metadata": {},
   "outputs": [
    {
     "name": "stdout",
     "output_type": "stream",
     "text": [
      "5\n"
     ]
    }
   ],
   "source": [
    "def foo():\n",
    "    x=5\n",
    "    return x \n",
    "\n",
    "x = foo()\n",
    "print(x)"
   ]
  },
  {
   "cell_type": "markdown",
   "metadata": {},
   "source": [
    "Dette er nyttig når du skal gjenbruke funksjonens resultater. \n",
    "\n",
    "I eksemplet nedenfor definerer vi funksjonen `areal` for rektangel, deretter beregner vi volumet av en kube ved å multiplisere rektanglets areal med høyden. Informasjonen gitt fra `areal` kan på denne måten brukes utenfor funksjonen. "
   ]
  },
  {
   "cell_type": "code",
   "execution_count": 40,
   "metadata": {},
   "outputs": [
    {
     "name": "stdout",
     "output_type": "stream",
     "text": [
      "Areal av rektangel: 50\n",
      "Volum av kube: 500\n"
     ]
    }
   ],
   "source": [
    "#Beregn rektanglets areal\n",
    "def areal(lengde, bredde):\n",
    "    return lengde*bredde\n",
    "\n",
    "lengde = 5\n",
    "bredde = 10\n",
    "høyde = 10\n",
    "\n",
    "areal_rektangel = areal(lengde, bredde)\n",
    "volum_kube = areal_rektangel*høyde\n",
    "\n",
    "print(f\"Areal av rektangel: {areal_rektangel}\")\n",
    "print(f\"Volum av kube: {volum_kube}\")"
   ]
  },
  {
   "cell_type": "markdown",
   "metadata": {},
   "source": [
    "<b>Oppgave: </b>Lag en funksjon som regner ut arealet av en sirkel med `radius` som parameter. \n",
    "\n",
    "Bruk funksjonens resultat til å regne ut volumet av en kule med samme `radius`."
   ]
  },
  {
   "cell_type": "code",
   "execution_count": null,
   "metadata": {},
   "outputs": [],
   "source": [
    "#Skriv koden her"
   ]
  },
  {
   "cell_type": "markdown",
   "metadata": {},
   "source": [
    "#### Oppgaver:"
   ]
  },
  {
   "cell_type": "markdown",
   "metadata": {},
   "source": [
    "<b>Oppgave 1:</b> Skriv en funksjon som tar et enkelt heltallparameter og skriver ut 'positiv' hvis tallet er større enn 0, og 'negativ' hvis tallet er mindre enn 0."
   ]
  },
  {
   "cell_type": "markdown",
   "metadata": {},
   "source": [
    "<b>Oppgave 2:</b> Skriv en funksjon som tar to heltallparametre og skriver ut 'equal' hvis de to tallene er like, 'greater' hvis det første tallet er større enn det andre, og 'smaller' hvis det første tallet er mindre enn det andre"
   ]
  },
  {
   "cell_type": "markdown",
   "metadata": {},
   "source": [
    "<b>Oppgave 3:</b> Skriv en funksjon som tar to heltallsparametre og enten returnerer summen, subtraksjonen og multiplikasjonen avhengig av bruker-input.\n"
   ]
  },
  {
   "cell_type": "markdown",
   "metadata": {},
   "source": [
    "<b>Oppgave 4:</b> Skriv en funksjon som tar tre heltallparametre og skriver ut summen av de tre tallene, etterfulgt av gjennomsnittet av de tre tallene."
   ]
  }
 ],
 "metadata": {
  "kernelspec": {
   "display_name": "Python 3.11.0 64-bit",
   "language": "python",
   "name": "python3"
  },
  "language_info": {
   "codemirror_mode": {
    "name": "ipython",
    "version": 3
   },
   "file_extension": ".py",
   "mimetype": "text/x-python",
   "name": "python",
   "nbconvert_exporter": "python",
   "pygments_lexer": "ipython3",
   "version": "3.11.0"
  },
  "vscode": {
   "interpreter": {
    "hash": "aee8b7b246df8f9039afb4144a1f6fd8d2ca17a180786b69acc140d282b71a49"
   }
  }
 },
 "nbformat": 4,
 "nbformat_minor": 2
}
