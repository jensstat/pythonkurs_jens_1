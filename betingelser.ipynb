{
 "cells": [
  {
   "cell_type": "markdown",
   "metadata": {},
   "source": [
    "# Python fagdag - kurs"
   ]
  },
  {
   "cell_type": "code",
   "execution_count": 1,
   "metadata": {},
   "outputs": [
    {
     "name": "stdout",
     "output_type": "stream",
     "text": [
      "Velkommen til fagdagens Python-kurs. La oss lære litt Python\n"
     ]
    }
   ],
   "source": [
    "# Introduksjon\n",
    "print(\"Velkommen til fagdagens Python-kurs. La oss lære litt Python\")"
   ]
  },
  {
   "cell_type": "markdown",
   "metadata": {},
   "source": [
    "Kan du betingelser godt fra før? Bla helt nederst på siden og prøv deg på oppgaven om `Text-Adventure Game`! "
   ]
  },
  {
   "cell_type": "markdown",
   "metadata": {},
   "source": [
    "### Intro betingelser"
   ]
  },
  {
   "cell_type": "markdown",
   "metadata": {},
   "source": [
    "I programmering er <i>betingelser</i> beslutningstakere i koden din. Med betingelser kan programmet ditt ta ulike valg og utgjøre ulike handlinger basert på valget. "
   ]
  },
  {
   "cell_type": "markdown",
   "metadata": {},
   "source": [
    "Tenk på betingelser som `\"hvis-da\"` logikk. \"`Hvis` noe er sant, gjør dette; `ellers` gjør dette\"."
   ]
  },
  {
   "cell_type": "markdown",
   "metadata": {},
   "source": [
    "<b>Eksempel 1:</b>"
   ]
  },
  {
   "cell_type": "code",
   "execution_count": 2,
   "metadata": {},
   "outputs": [
    {
     "name": "stdout",
     "output_type": "stream",
     "text": [
      "Du kan ikke stemme\n"
     ]
    }
   ],
   "source": [
    "alder = 16\n",
    "if alder < 18:\n",
    "    print(\"Du kan ikke stemme\")\n",
    "else:\n",
    "    print(\"Du kan stemme\")"
   ]
  },
  {
   "cell_type": "markdown",
   "metadata": {},
   "source": [
    "I dette eksempelet sjekker programmet om variabelen `alder` er mindre enn `18`. Hvis det er sant, skriver det ut `\"Du kan ikke stemme\"`. Hvis det er usant, skriver det ut `\"Du kan stemme.\"`"
   ]
  },
  {
   "cell_type": "markdown",
   "metadata": {},
   "source": [
    "### Ulike tester"
   ]
  },
  {
   "cell_type": "markdown",
   "metadata": {},
   "source": [
    "Vi kan teste mange ulike ting med betingelser, og de viktigste er gitt i tabellen nedenfor:"
   ]
  },
  {
   "cell_type": "markdown",
   "metadata": {},
   "source": [
    "<table>\n",
    "  <tr>\n",
    "    <th>Test</th>\n",
    "    <th>Forklaring</th>\n",
    "    <th>Eksempel</th>\n",
    "  </tr>\n",
    "   <tr>\n",
    "    <td>==</td>\n",
    "    <td>Er lik </td>\n",
    "    <td>10 == 5 er Usant</td>\n",
    "  </tr>\n",
    "  <tr>\n",
    "    <td>!=</td>\n",
    "    <td>Er ikke lik </td>\n",
    "    <td>10 != 5 er Sant</td>\n",
    "  </tr>\n",
    "  <tr>\n",
    "    <td><</td>\n",
    "    <td>Mindre enn </td>\n",
    "    <td>2 < 4 er Sant</td>\n",
    "  </tr>\n",
    "  <tr>\n",
    "    <td>></td>\n",
    "    <td>Større enn </td>\n",
    "    <td>4 > 4 er Usant</td>\n",
    "  </tr>\n",
    " \n",
    "  <tr>\n",
    "    <td>>=</td>\n",
    "    <td>Større eller lik </td>\n",
    "    <td>4 > 4 er Sant</td>\n",
    "  </tr>\n",
    "   <tr>\n",
    "    <td><=</td>\n",
    "    <td>Mindre eller lik </td>\n",
    "    <td>2 <= 2 er Sant</td>\n",
    "  </tr>\n",
    "</table>"
   ]
  },
  {
   "cell_type": "markdown",
   "metadata": {},
   "source": [
    "### If, elif og else"
   ]
  },
  {
   "cell_type": "markdown",
   "metadata": {},
   "source": [
    "Prøv å forklar/forstå sammen med de du sitter med hva følgende kode gjør. Jeg vil hjelpe dere med å forklare, så bare rekk opp hånden."
   ]
  },
  {
   "cell_type": "code",
   "execution_count": 4,
   "metadata": {},
   "outputs": [
    {
     "name": "stdout",
     "output_type": "stream",
     "text": [
      "Karakteren din er: C\n"
     ]
    }
   ],
   "source": [
    "score = 75\n",
    "\n",
    "# Gi karakteren\n",
    "if score >= 90:\n",
    "    grade = \"A\"\n",
    "elif score >= 80:\n",
    "    grade = \"B\"\n",
    "elif score >= 70:\n",
    "    grade = \"C\"\n",
    "elif score >= 60:\n",
    "    grade = \"D\"\n",
    "else:\n",
    "    grade = \"F\"\n",
    "\n",
    "# Gi resultat\n",
    "print(\"Karakteren din er:\", grade)\n"
   ]
  },
  {
   "cell_type": "markdown",
   "metadata": {},
   "source": [
    "<b>Forklaring:</b>"
   ]
  },
  {
   "cell_type": "markdown",
   "metadata": {},
   "source": [
    "1. Vi lager en variabel `score` og gir den verdien 75\n",
    "\n",
    "2. Dersom `score >= 90`, så blir variabelen grade satt til \"A\". Siden `score` har verdien 75 gir `if score >= 90` usant. Dermed kjører ikke koden inne i `if`-blokken, og programmet hopper til neste linje\n",
    "\n",
    "3. Neste linje tester om `score >= 80`. Dette er usant, så koden inne i første `elif`-blokk kjører ikke. Programmet hopper til neste linje\n",
    "\n",
    "4. Neste linje tester om `score >= 70`. Dette er sant, så koden som er innrykket kjører. En variabel `grade` blir laget, og gitt verdien `\"C\"`. Programmet hopper da over neste `elif`-setning og `else`-setningen. \n",
    "\n",
    "5. Til slutt kjøres `print`-setningen som gir karakteren ut"
   ]
  },
  {
   "cell_type": "markdown",
   "metadata": {},
   "source": [
    "#### Oppgave 1:"
   ]
  },
  {
   "cell_type": "markdown",
   "metadata": {},
   "source": [
    "Prøv å endre på koden som ga en karakter basert på en score. Gjør systemet om til det norske systemet, slik at den gir en karakter fra 1-6 basert på en prosent. Koden er lagt inn i blokken nedenfor.\n"
   ]
  },
  {
   "cell_type": "code",
   "execution_count": 2,
   "metadata": {},
   "outputs": [
    {
     "name": "stdout",
     "output_type": "stream",
     "text": [
      "Karakteren din er: C\n"
     ]
    }
   ],
   "source": [
    "#Oppgave 1\n",
    "score = 75\n",
    "\n",
    "# Gi karakteren\n",
    "if score >= 90:\n",
    "    grade = \"A\"\n",
    "elif score >= 80:\n",
    "    grade = \"B\"\n",
    "elif score >= 70:\n",
    "    grade = \"C\"\n",
    "elif score >= 60:\n",
    "    grade = \"D\"\n",
    "else:\n",
    "    grade = \"F\"\n",
    "\n",
    "# Gi resultat\n",
    "print(\"Karakteren din er:\", grade)\n"
   ]
  },
  {
   "cell_type": "markdown",
   "metadata": {},
   "source": [
    "#### Oppgave 2:"
   ]
  },
  {
   "cell_type": "markdown",
   "metadata": {},
   "source": [
    "Lag et program som sammenligner to tall, og printer ut det største tallet"
   ]
  },
  {
   "cell_type": "code",
   "execution_count": 1,
   "metadata": {},
   "outputs": [],
   "source": [
    "# Oppgave 2\n",
    "num1 = 20\n",
    "num2 = 30\n",
    "\n",
    "# Skriv kode som sammenligner num1 og num2 og skriver ut den største verdien"
   ]
  },
  {
   "cell_type": "markdown",
   "metadata": {},
   "source": [
    "#### Oppgave 3:"
   ]
  },
  {
   "cell_type": "markdown",
   "metadata": {},
   "source": [
    "Sjekk om `50/3` er større enn `20`, og print ut fornuftige resultater."
   ]
  },
  {
   "cell_type": "code",
   "execution_count": null,
   "metadata": {},
   "outputs": [],
   "source": [
    "# Oppgave 3\n",
    "# Skriv inn variabler"
   ]
  },
  {
   "cell_type": "markdown",
   "metadata": {},
   "source": [
    "### Flere tester på en gang"
   ]
  },
  {
   "cell_type": "markdown",
   "metadata": {},
   "source": [
    "Vi kan også teste flere ting på en gang ved å bruke `and` og `or`. Ser først på `and` (se koden nedenfor)."
   ]
  },
  {
   "cell_type": "code",
   "execution_count": 1,
   "metadata": {},
   "outputs": [
    {
     "name": "stdout",
     "output_type": "stream",
     "text": [
      "Tallet er ikke mellom 0 og 10\n"
     ]
    }
   ],
   "source": [
    "num = 20\n",
    "\n",
    "if num > 0 and num<10:\n",
    "    print(\"Tallet er mellom 0 og 10\")\n",
    "else:\n",
    "    print(\"Tallet er ikke mellom 0 og 10\")"
   ]
  },
  {
   "cell_type": "markdown",
   "metadata": {},
   "source": [
    "Her ser du at for at `if`-testen skal være sann må både `num1>0`<b> og </b> `num1<10` være sann. Ellers kjøres det som står under `else`."
   ]
  },
  {
   "cell_type": "markdown",
   "metadata": {},
   "source": [
    "#### Oppgave 4"
   ]
  },
  {
   "cell_type": "markdown",
   "metadata": {},
   "source": [
    "Bruk `and` til å sjekke om to tall `tall1` og `tall2` begge er negative. Gi en melding dersom ikke begge tallene er negative."
   ]
  },
  {
   "cell_type": "code",
   "execution_count": 6,
   "metadata": {},
   "outputs": [],
   "source": [
    "#oppgave 4\n",
    "num1 = -10\n",
    "num2 = 30\n",
    "\n",
    "#Skriv koden her"
   ]
  },
  {
   "cell_type": "markdown",
   "metadata": {},
   "source": [
    "Med `or` kan du teste om minst en av to betingelser er sanne. For eksempel:"
   ]
  },
  {
   "cell_type": "code",
   "execution_count": 7,
   "metadata": {},
   "outputs": [
    {
     "name": "stdout",
     "output_type": "stream",
     "text": [
      "Minst ett av tallene er negative\n"
     ]
    }
   ],
   "source": [
    "num1 = -10\n",
    "num2 = 20\n",
    "\n",
    "if num1 <0 or num2 <0:\n",
    "    print(\"Minst ett av tallene er negative\")\n",
    "else:\n",
    "    print(\"Begge tallene er positive\")"
   ]
  },
  {
   "cell_type": "markdown",
   "metadata": {},
   "source": [
    "#### Oppgave 5:"
   ]
  },
  {
   "cell_type": "markdown",
   "metadata": {},
   "source": [
    "Bruk `or` til å sjekke om enten et tall er større enn 10 eller høyere enn 20. Gi en melding dersom ingen av betingelsene er sanne."
   ]
  },
  {
   "cell_type": "code",
   "execution_count": 2,
   "metadata": {},
   "outputs": [],
   "source": [
    "#Oppgave 5\n",
    "nummer = 14\n",
    "\n"
   ]
  },
  {
   "cell_type": "markdown",
   "metadata": {},
   "source": [
    "### Mer avanserte oppgaver:"
   ]
  },
  {
   "cell_type": "markdown",
   "metadata": {},
   "source": [
    "#### Kalkulator:"
   ]
  },
  {
   "cell_type": "markdown",
   "metadata": {},
   "source": [
    "Lag en kalkulator som kan addere, subtrahere, multiplisere og dividere to tall. Brukeren skal først velge hvilken operasjon som skal utføres, og deretter skrive inn to tall. Programmet skal så skrive ut svaret."
   ]
  },
  {
   "cell_type": "markdown",
   "metadata": {},
   "source": [
    "#### Stein, saks, papir\n"
   ]
  },
  {
   "cell_type": "markdown",
   "metadata": {},
   "source": [
    "Lag et program som spiller stein, saks, papir. Bruk \"import random\" til å gjøre maskinens valg random, og la brukeren selv velge, slik at det blir et funksjonelt spill. Gjør dette i ditt Python-program."
   ]
  },
  {
   "cell_type": "markdown",
   "metadata": {},
   "source": [
    "#### Text-adventure Game"
   ]
  },
  {
   "cell_type": "markdown",
   "metadata": {},
   "source": [
    "Lag et text-adventure game. Gjør dette i ditt Python-program. Jeg har startet på et lite text-adventure game her. Bli inspirert av koden, fullfør spillet eller lag ditt helt egne spill! Her er det kreativitet som gjelder, så det viktig at du bruker god tid på å tenke hva planen er! Hva skal spillet handle om og slikt!"
   ]
  },
  {
   "cell_type": "code",
   "execution_count": 1,
   "metadata": {},
   "outputs": [
    {
     "data": {
      "text/plain": [
       "'\\nprint(\"Du befinner deg på en øde landevei. Du er helt alene.\")\\nprint(\"Plutselig hører du lyden av en bil ta deg igjen. Lyden blir høyere og høyere.\")\\nprint(\"Bilen bremser og du ser mot den. Kjøreren stirrer ned på deg, åpner vinduet og sier:\")\\nprint(\"Hei! Lyst på skyss?\")\\nprint(\"__________________________________\")\\nvalg = input(\"Velger du å hoppe inn i bilen, eller sier du nei (ja, nei)\")\\nif valg == \"ja\":\\n    print(\"Du hopper inn i bilen. \")\\n\\nelif valg == \"nei\": \\n    print(\"Du hopper ikke inn i bilen. \")\\n\\n'"
      ]
     },
     "execution_count": 1,
     "metadata": {},
     "output_type": "execute_result"
    }
   ],
   "source": [
    "print(\"Du befinner deg på en øde landevei. Du er helt alene.\")\n",
    "print(\"Plutselig hører du lyden av en bil ta deg igjen. Lyden blir høyere og høyere.\")\n",
    "print(\"Bilen bremser og du ser mot den. Kjøreren stirrer ned på deg, åpner vinduet og sier:\")\n",
    "print(\"Hei! Lyst på skyss?\")\n",
    "print(\"__________________________________\")\n",
    "valg = input(\"Velger du å hoppe inn i bilen, eller sier du nei (ja, nei)\")\n",
    "if valg == \"ja\":\n",
    "    print(\"Du hopper inn i bilen. \")\n",
    "    #Skriv videre her\n",
    "\n",
    "elif valg == \"nei\": \n",
    "    print(\"Du hopper ikke inn i bilen. \")\n",
    "    #Skriv videre her\n",
    "else: \n",
    "    print(\"Du svarer ikke på spørsmålet. \")\n"
   ]
  }
 ],
 "metadata": {
  "kernelspec": {
   "display_name": "Python 3.11.0 64-bit",
   "language": "python",
   "name": "python3"
  },
  "language_info": {
   "codemirror_mode": {
    "name": "ipython",
    "version": 3
   },
   "file_extension": ".py",
   "mimetype": "text/x-python",
   "name": "python",
   "nbconvert_exporter": "python",
   "pygments_lexer": "ipython3",
   "version": "3.11.0"
  },
  "orig_nbformat": 4,
  "vscode": {
   "interpreter": {
    "hash": "aee8b7b246df8f9039afb4144a1f6fd8d2ca17a180786b69acc140d282b71a49"
   }
  }
 },
 "nbformat": 4,
 "nbformat_minor": 2
}
